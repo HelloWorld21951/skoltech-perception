{
 "cells": [
  {
   "cell_type": "markdown",
   "metadata": {},
   "source": [
    "## Task A"
   ]
  },
  {
   "cell_type": "markdown",
   "metadata": {},
   "source": [
    "### 1. Finding Q"
   ]
  },
  {
   "cell_type": "markdown",
   "metadata": {},
   "source": [
    "Covariance $Q$ characterizes the observation noise. In our case, observation is the vector:\n",
    "\n",
    "$z = \\begin{bmatrix} bearing \\\\ ID \\end{bmatrix}$\n",
    "\n",
    "Therefore, as variables in observation are not correlated:\n",
    "\n",
    "$Q = \\begin{bmatrix} \\sigma_{bearing}^2 & 0 \\\\ 0 & \\sigma_{ID}^2 \\end{bmatrix}$\n",
    "\n",
    "We know that observation of landmark ID has error equal to zero, and for bearing:\n",
    "\n",
    "$\\sigma_{bearing} = 0.35$\n",
    "\n",
    "So we can reduce the covariance matrix to:\n",
    "\n",
    "$Q = \\begin{bmatrix} 0.35^2 \\end{bmatrix}$"
   ]
  },
  {
   "cell_type": "markdown",
   "metadata": {},
   "source": [
    "### 2. Finding Jacobians"
   ]
  },
  {
   "cell_type": "markdown",
   "metadata": {},
   "source": [
    "We have the following odometry model:\n",
    "\n",
    "$x = \\begin{bmatrix} x \\\\ y \\\\ \\theta \\end{bmatrix}$\n",
    "\n",
    "$u = \\begin{bmatrix} \\delta_{rot1} \\\\ \\delta_{trans} \\\\ \\delta_{rot2} \\end{bmatrix}$\n",
    "\n",
    "$x_t = g(x_{t-1}, u_t, \\varepsilon_t) |_{\\varepsilon_t=0} = \\begin{bmatrix} x_{t-1} + \\delta_{trans} cos(\\theta + \\delta_{rot1}) \\\\ y_{t-1} + \\delta_{trans} sin(\\theta + \\delta_{rot1}) \\\\ \\theta_{t-1} + \\delta_{rot1} + \\delta_{rot2}\\end{bmatrix}$\n",
    "\n",
    "\n",
    "According to it we can find state and control jacobians:\n",
    "\n",
    "$G_t = \\frac{\\partial g(x_{t-1}, u_t, \\varepsilon_t)}{\\partial x_{t-1}} |_{\\mu_{t-1}, \\varepsilon_t=0} = \\begin{bmatrix} 1 & 0 & -\\delta_{trans} sin(\\theta + \\delta_{rot1}) \\\\ 0 & 1 & \\delta_{trans} cos(\\theta + \\delta_{rot1}) \\\\ 0 & 0 & 1\\end{bmatrix}$\n",
    "\n",
    "$V_t = \\frac{\\partial g(x_{t-1}, u_t, \\varepsilon_t)}{\\partial u_{t}} |_{\\mu_{t-1}, \\varepsilon_t=0} = \\begin{bmatrix} -\\delta_{trans} sin(\\theta + \\delta_{rot1}) & cos(\\theta + \\delta_{rot1}) & 0 \\\\ \\delta_{trans} cos(\\theta + \\delta_{rot1}) & sin(\\theta + \\delta_{rot1}) & 0 \\\\ 1 & 0 & 1\\end{bmatrix}$\n",
    "\n",
    "Our observations can be converted to features of landmarks:\n",
    "\n",
    "$landmark_i = \\begin{bmatrix} m_{i,x} & m_{i,y}\\end{bmatrix}^T$\n",
    "\n",
    "$f_i = \\begin{bmatrix} range \\\\ bearing \\\\ signature \\end{bmatrix} = \\begin{bmatrix} r_{i,t} \\\\ \\phi_{i,t} \\\\ s_{i,t} \\end{bmatrix} = \\begin{bmatrix} \\sqrt{(m_{i,x}-x_t)^2 + (m_{i,y}-y_t)^2} \\\\ atan2(m_{i,x}-x_t, m_{i,y}-y_t) - \\theta \\\\ 0 \\end{bmatrix}$\n",
    "\n",
    "and observation jacobian is:\n",
    "\n",
    "$H_t = \\frac{\\partial g(x_{t-1}, x_t, \\varepsilon_t)}{\\partial x_{t}} |_{\\mu_{t-1}, \\varepsilon_t=0} = \\begin{bmatrix} -\\frac{m_{i,x} - \\overline{\\mu}_{t,x}}{r_{i,t}} & \\frac{m_{i,y} - \\overline{\\mu}_{t,y}}{r_{i,t}} & 0 \\\\ \\frac{m_{i,x} - \\overline{\\mu}_{t,x}}{r_{i,t}^2} & -\\frac{m_{i,y} - \\overline{\\mu}_{t,y}}{r_{i,t}^2} & -1 \\\\ 0 & 0 & 0 \\end{bmatrix}$\n",
    "\n",
    "Reducing to bearing only:\n",
    "\n",
    "$H_t = \\begin{bmatrix} \\frac{m_{i,x} - \\overline{\\mu}_{t,x}}{r_{i,t}^2} & -\\frac{m_{i,y} - \\overline{\\mu}_{t,y}}{r_{i,t}^2} & -1 \\end{bmatrix}$\n",
    "\n",
    "Given the initial mean state and the initial control input:\n",
    "\n",
    "$\\mu_1 = \\begin{bmatrix} 180 & 50 & 5 \\end{bmatrix}^T$\n",
    "\n",
    "$u = \\begin{bmatrix} 0 & 10 & 0 \\end{bmatrix}^T$\n",
    "\n",
    "we obtain the following values of jacobians:\n",
    "\n",
    "$G^{\\mu_1}_t = \\begin{bmatrix} 1 & 0 & 0 \\\\ 0 & 1 & 10 \\\\ 0 & 0 & 1 \\end{bmatrix}$\n",
    "\n",
    "$V^{\\mu_1}_t = \\begin{bmatrix} 0 & 1 & 0 \\\\ 10 & 0 & 0 \\\\ 1 & 0 & 1 \\end{bmatrix}$"
   ]
  },
  {
   "cell_type": "markdown",
   "metadata": {},
   "source": [
    "### 3. Finding R"
   ]
  },
  {
   "cell_type": "markdown",
   "metadata": {},
   "source": [
    "Covariance $R$ characterizes the noise added to transition function and can be found via following equation:\n",
    "\n",
    "$R_t = V_t M V_t^T$\n",
    "\n",
    "where M is covariance of control noise and is found as following:\n",
    "\n",
    "$M = \\begin{bmatrix} \\alpha_1 \\delta_{rot1}^2 + \\alpha_2 \\delta_{trans}^2 & 0 & 0 \\\\ 0 & \\alpha_3 \\delta_{trans}^2 + \\alpha_4 (\\delta_{rot1}^2 + \\delta_{rot2}^2) & 0 \\\\ 0 & 0 & \\alpha_1 \\delta_{rot2}^2 + \\alpha_2 \\delta_{trans}^2 \\end{bmatrix}$\n",
    "\n",
    "$\\alpha_1 = 0.05^2$\n",
    "\n",
    "$\\alpha_2 = 0.001^2$\n",
    "\n",
    "$\\alpha_3 = 0.05^2$\n",
    "\n",
    "$\\alpha_4 = 0.01^2$"
   ]
  },
  {
   "cell_type": "markdown",
   "metadata": {},
   "source": []
  }
 ],
 "metadata": {
  "kernelspec": {
   "display_name": "Python 3.9.12 ('base')",
   "language": "python",
   "name": "python3"
  },
  "language_info": {
   "name": "python",
   "version": "3.9.12"
  },
  "orig_nbformat": 4,
  "vscode": {
   "interpreter": {
    "hash": "1ad81400e789639f888b4f01e59c28c329187c56a23f8e3221f4cce8b26318ce"
   }
  }
 },
 "nbformat": 4,
 "nbformat_minor": 2
}
