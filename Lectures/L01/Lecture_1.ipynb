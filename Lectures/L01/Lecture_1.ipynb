{
 "cells": [
  {
   "attachments": {},
   "cell_type": "markdown",
   "metadata": {},
   "source": [
    "# I. Sample mean and sample covariance\n",
    "This task is to \n",
    "1. generate random one-dimensional normally distributed variables;\n",
    "2. draw distribution of generated samples;\n",
    "3. compute sample mean and sample covariance of generated data."
   ]
  },
  {
   "cell_type": "code",
   "execution_count": 33,
   "metadata": {},
   "outputs": [],
   "source": [
    "# Import libraries\n",
    "import numpy as np\n",
    "import matplotlib.pyplot as plt\n",
    "from scipy.stats import norm"
   ]
  },
  {
   "attachments": {},
   "cell_type": "markdown",
   "metadata": {},
   "source": [
    "## 1. Generate\n",
    "Generate a set of 10000 random one-dimensional normally distributed variables.   \n",
    "\n",
    "You may need to employ `np.random.randn(...)` .  \n",
    "You can use Sift+Tab in the end of typing function or `?` magic command before the function to check the usage pattern of a function."
   ]
  },
  {
   "cell_type": "code",
   "execution_count": 34,
   "metadata": {},
   "outputs": [],
   "source": [
    "data_1d = np.random.randn(10000)"
   ]
  },
  {
   "attachments": {},
   "cell_type": "markdown",
   "metadata": {},
   "source": [
    "## 2. Observe\n",
    "Draw distribution of generated samples by `plt.hist(...)` .  \n",
    "40 - 100 bins is an optimal choice."
   ]
  },
  {
   "cell_type": "code",
   "execution_count": 35,
   "metadata": {},
   "outputs": [
    {
     "data": {
      "text/plain": [
       "(array([  1.,   0.,   0.,   1.,   1.,   5.,   7.,   9.,  19.,  33.,  52.,\n",
       "         64.,  84., 109., 149., 205., 224., 338., 393., 453., 519., 580.,\n",
       "        609., 641., 668., 644., 667., 597., 518., 499., 406., 366., 285.,\n",
       "        220., 194., 124.,  99.,  72.,  54.,  29.,  20.,  12.,  13.,  10.,\n",
       "          2.,   0.,   2.,   0.,   1.,   2.]),\n",
       " array([-4.06672187, -3.90224609, -3.73777031, -3.57329453, -3.40881875,\n",
       "        -3.24434297, -3.07986719, -2.9153914 , -2.75091562, -2.58643984,\n",
       "        -2.42196406, -2.25748828, -2.0930125 , -1.92853672, -1.76406094,\n",
       "        -1.59958516, -1.43510937, -1.27063359, -1.10615781, -0.94168203,\n",
       "        -0.77720625, -0.61273047, -0.44825469, -0.28377891, -0.11930312,\n",
       "         0.04517266,  0.20964844,  0.37412422,  0.5386    ,  0.70307578,\n",
       "         0.86755156,  1.03202734,  1.19650312,  1.36097891,  1.52545469,\n",
       "         1.68993047,  1.85440625,  2.01888203,  2.18335781,  2.34783359,\n",
       "         2.51230937,  2.67678516,  2.84126094,  3.00573672,  3.1702125 ,\n",
       "         3.33468828,  3.49916406,  3.66363984,  3.82811562,  3.9925914 ,\n",
       "         4.15706719]),\n",
       " <BarContainer object of 50 artists>)"
      ]
     },
     "execution_count": 35,
     "metadata": {},
     "output_type": "execute_result"
    },
    {
     "data": {
      "image/png": "[encoded data removed]",
      "text/plain": [
       "<Figure size 432x288 with 1 Axes>"
      ]
     },
     "metadata": {
      "needs_background": "light"
     },
     "output_type": "display_data"
    }
   ],
   "source": [
    "plt.hist(data_1d, 50)"
   ]
  },
  {
   "attachments": {},
   "cell_type": "markdown",
   "metadata": {},
   "source": [
    "## 3. Compute statistics\n",
    "Compute the sample mean and the sample covariance of the generated data."
   ]
  },
  {
   "cell_type": "code",
   "execution_count": 36,
   "metadata": {},
   "outputs": [],
   "source": [
    "def sample_mean(data: np.ndarray) -> float:\n",
    "    mean = np.sum(data) / data.shape[0]\n",
    "    return mean\n",
    "\n",
    "def smean_iscorrect(data: np.ndarray) -> bool:\n",
    "    return np.isclose(sample_mean(data), data.mean(), rtol=1e-14)"
   ]
  },
  {
   "attachments": {},
   "cell_type": "markdown",
   "metadata": {},
   "source": [
    "Check correctness of your `sample_mean(...)`"
   ]
  },
  {
   "cell_type": "code",
   "execution_count": 37,
   "metadata": {},
   "outputs": [
    {
     "data": {
      "text/plain": [
       "0.004121318546543742"
      ]
     },
     "execution_count": 37,
     "metadata": {},
     "output_type": "execute_result"
    }
   ],
   "source": [
    "sample_mean(data_1d)"
   ]
  },
  {
   "cell_type": "code",
   "execution_count": 38,
   "metadata": {},
   "outputs": [
    {
     "data": {
      "text/plain": [
       "True"
      ]
     },
     "execution_count": 38,
     "metadata": {},
     "output_type": "execute_result"
    }
   ],
   "source": [
    "smean_iscorrect(data_1d)"
   ]
  },
  {
   "cell_type": "code",
   "execution_count": 39,
   "metadata": {},
   "outputs": [],
   "source": [
    "def sample_covariance(data: np.ndarray) -> float:\n",
    "    cov = np.sum((data - sample_mean(data)) ** 2) / (data.shape[0] - 1)\n",
    "    return cov\n",
    "\n",
    "def scov_iscorrect(data: np.ndarray) -> bool:\n",
    "    return np.isclose(sample_covariance(data), np.cov(data, bias=False), rtol=1e-14)"
   ]
  },
  {
   "cell_type": "code",
   "execution_count": 40,
   "metadata": {},
   "outputs": [
    {
     "data": {
      "text/plain": [
       "0.9879307453919438"
      ]
     },
     "execution_count": 40,
     "metadata": {},
     "output_type": "execute_result"
    }
   ],
   "source": [
    "sample_covariance(data_1d)"
   ]
  },
  {
   "cell_type": "code",
   "execution_count": 41,
   "metadata": {},
   "outputs": [
    {
     "data": {
      "text/plain": [
       "True"
      ]
     },
     "execution_count": 41,
     "metadata": {},
     "output_type": "execute_result"
    }
   ],
   "source": [
    "scov_iscorrect(data_1d)"
   ]
  }
 ],
 "metadata": {
  "kernelspec": {
   "display_name": "Python 3.10.6 64-bit",
   "language": "python",
   "name": "python3"
  },
  "language_info": {
   "codemirror_mode": {
    "name": "ipython",
    "version": 3
   },
   "file_extension": ".py",
   "mimetype": "text/x-python",
   "name": "python",
   "nbconvert_exporter": "python",
   "pygments_lexer": "ipython3",
   "version": "3.10.6"
  },
  "orig_nbformat": 4,
  "vscode": {
   "interpreter": {
    "hash": "916dbcbb3f70747c44a77c7bcd40155683ae19c65e1c03b4aa3499c5328201f1"
   }
  }
 },
 "nbformat": 4,
 "nbformat_minor": 2
}
