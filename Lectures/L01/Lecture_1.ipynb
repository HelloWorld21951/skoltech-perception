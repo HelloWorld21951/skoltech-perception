{
 "cells": [
  {
   "attachments": {},
   "cell_type": "markdown",
   "metadata": {},
   "source": [
    "# I. Sample mean and sample covariance\n",
    "This task is to \n",
    "1. generate random one-dimensional normally distributed variables;\n",
    "2. draw distribution of generated samples;\n",
    "3. compute sample mean and sample covariance of generated data."
   ]
  },
  {
   "cell_type": "code",
   "execution_count": 34,
   "metadata": {},
   "outputs": [],
   "source": [
    "# Import libraries\n",
    "import numpy as np\n",
    "import matplotlib.pyplot as plt\n",
    "from scipy.stats import norm"
   ]
  },
  {
   "attachments": {},
   "cell_type": "markdown",
   "metadata": {},
   "source": [
    "## 1. Generate\n",
    "Generate a set of 10000 random one-dimensional normally distributed variables.   \n",
    "\n",
    "You may need to employ `np.random.randn(...)` .  \n",
    "You can use Sift+Tab in the end of typing function or `?` magic command before the function to check the usage pattern of a function."
   ]
  },
  {
   "cell_type": "code",
   "execution_count": 35,
   "metadata": {},
   "outputs": [],
   "source": [
    "data_1d = np.random.randn(10000)"
   ]
  },
  {
   "attachments": {},
   "cell_type": "markdown",
   "metadata": {},
   "source": [
    "## 2. Observe\n",
    "Draw distribution of generated samples by `plt.hist(...)` .  \n",
    "40 - 100 bins is an optimal choice."
   ]
  },
  {
   "cell_type": "code",
   "execution_count": 36,
   "metadata": {},
   "outputs": [
    {
     "data": {
      "text/plain": [
       "(array([  1.,   1.,   1.,   3.,   6.,   6.,   7.,  11.,  23.,  29.,  52.,\n",
       "         53.,  92., 139., 178., 240., 276., 334., 419., 472., 516., 579.,\n",
       "        637., 647., 656., 629., 593., 599., 529., 466., 395., 335., 280.,\n",
       "        224., 168., 117.,  86.,  73.,  44.,  36.,  24.,  10.,   7.,   3.,\n",
       "          2.,   1.,   0.,   0.,   0.,   1.]),\n",
       " array([-4.05074012, -3.88477799, -3.71881586, -3.55285373, -3.38689159,\n",
       "        -3.22092946, -3.05496733, -2.8890052 , -2.72304306, -2.55708093,\n",
       "        -2.3911188 , -2.22515667, -2.05919453, -1.8932324 , -1.72727027,\n",
       "        -1.56130814, -1.39534601, -1.22938387, -1.06342174, -0.89745961,\n",
       "        -0.73149748, -0.56553534, -0.39957321, -0.23361108, -0.06764895,\n",
       "         0.09831319,  0.26427532,  0.43023745,  0.59619958,  0.76216172,\n",
       "         0.92812385,  1.09408598,  1.26004811,  1.42601025,  1.59197238,\n",
       "         1.75793451,  1.92389664,  2.08985878,  2.25582091,  2.42178304,\n",
       "         2.58774517,  2.75370731,  2.91966944,  3.08563157,  3.2515937 ,\n",
       "         3.41755584,  3.58351797,  3.7494801 ,  3.91544223,  4.08140436,\n",
       "         4.2473665 ]),\n",
       " <BarContainer object of 50 artists>)"
      ]
     },
     "execution_count": 36,
     "metadata": {},
     "output_type": "execute_result"
    },
    {
     "data": {
      "image/png": "[encoded data removed]",
      "text/plain": [
       "<Figure size 432x288 with 1 Axes>"
      ]
     },
     "metadata": {
      "needs_background": "light"
     },
     "output_type": "display_data"
    }
   ],
   "source": [
    "plt.hist(data_1d, 50)"
   ]
  },
  {
   "attachments": {},
   "cell_type": "markdown",
   "metadata": {},
   "source": [
    "## 3. Compute statistics\n",
    "Compute the sample mean and the sample covariance of the generated data."
   ]
  },
  {
   "cell_type": "code",
   "execution_count": 37,
   "metadata": {},
   "outputs": [],
   "source": [
    "def sample_mean(data: np.ndarray) -> float:\n",
    "    mean = 0\n",
    "    for i in data:\n",
    "        mean += i / len(data)\n",
    "    return mean\n",
    "\n",
    "def smean_iscorrect(data: np.ndarray) -> bool:\n",
    "    return np.isclose(sample_mean(data), data.mean(), rtol=1e-14)"
   ]
  },
  {
   "attachments": {},
   "cell_type": "markdown",
   "metadata": {},
   "source": [
    "Check correctness of your `sample_mean(...)`"
   ]
  },
  {
   "cell_type": "code",
   "execution_count": 38,
   "metadata": {},
   "outputs": [
    {
     "data": {
      "text/plain": [
       "0.004381346518678769"
      ]
     },
     "execution_count": 38,
     "metadata": {},
     "output_type": "execute_result"
    }
   ],
   "source": [
    "sample_mean(data_1d)"
   ]
  },
  {
   "cell_type": "code",
   "execution_count": 39,
   "metadata": {},
   "outputs": [
    {
     "data": {
      "text/plain": [
       "True"
      ]
     },
     "execution_count": 39,
     "metadata": {},
     "output_type": "execute_result"
    }
   ],
   "source": [
    "smean_iscorrect(data_1d)"
   ]
  },
  {
   "cell_type": "code",
   "execution_count": 40,
   "metadata": {},
   "outputs": [],
   "source": [
    "def sample_covariance(data: np.ndarray) -> float:\n",
    "    mean = sample_mean(data)\n",
    "    cov = 0\n",
    "    for i in data:\n",
    "        cov += (i - mean) ** 2 / (len(data) - 1)\n",
    "    return cov\n",
    "\n",
    "def scov_iscorrect(data: np.ndarray) -> bool:\n",
    "    return np.isclose(sample_covariance(data), np.cov(data, bias=False), rtol=1e-14)"
   ]
  },
  {
   "cell_type": "code",
   "execution_count": 41,
   "metadata": {},
   "outputs": [
    {
     "data": {
      "text/plain": [
       "1.0182673959164001"
      ]
     },
     "execution_count": 41,
     "metadata": {},
     "output_type": "execute_result"
    }
   ],
   "source": [
    "sample_covariance(data_1d)"
   ]
  },
  {
   "cell_type": "code",
   "execution_count": 42,
   "metadata": {},
   "outputs": [
    {
     "data": {
      "text/plain": [
       "True"
      ]
     },
     "execution_count": 42,
     "metadata": {},
     "output_type": "execute_result"
    }
   ],
   "source": [
    "scov_iscorrect(data_1d)"
   ]
  }
 ],
 "metadata": {
  "kernelspec": {
   "display_name": "Python 3.10.6 64-bit",
   "language": "python",
   "name": "python3"
  },
  "language_info": {
   "codemirror_mode": {
    "name": "ipython",
    "version": 3
   },
   "file_extension": ".py",
   "mimetype": "text/x-python",
   "name": "python",
   "nbconvert_exporter": "python",
   "pygments_lexer": "ipython3",
   "version": "3.10.6"
  },
  "orig_nbformat": 4,
  "vscode": {
   "interpreter": {
    "hash": "916dbcbb3f70747c44a77c7bcd40155683ae19c65e1c03b4aa3499c5328201f1"
   }
  }
 },
 "nbformat": 4,
 "nbformat_minor": 2
}
