{
 "cells": [
  {
   "cell_type": "code",
   "execution_count": 446,
   "metadata": {},
   "outputs": [],
   "source": [
    "import numpy as np\n",
    "import matplotlib.pyplot as plt\n",
    "\n",
    "from matplotlib.patches import Wedge"
   ]
  },
  {
   "cell_type": "markdown",
   "metadata": {},
   "source": [
    "# Seminar L03"
   ]
  },
  {
   "cell_type": "markdown",
   "metadata": {},
   "source": [
    "Suppose that the trajectory of a robot can be described by a vector $p_i=\\begin{bmatrix}{x}_i \\\\ {y}_i \\\\ \\theta_i\\end{bmatrix}$ which is a location of the robot $(x,y)$ and a sclar $\\theta_i$ which is its heading (in radians)."
   ]
  },
  {
   "cell_type": "markdown",
   "metadata": {},
   "source": [
    "<img src=\"heading.png\" width=\"480\" height=\"360\">"
   ]
  },
  {
   "cell_type": "markdown",
   "metadata": {},
   "source": [
    "# 1 Marginalization of orientation\n",
    "Let's assume we have the following Gussian distribution of the 2D pose $p$:\n",
    "\n",
    "$$ p(\\theta, x,y) = \\mathcal{N}(\\begin{bmatrix}x \\\\ y \\\\ \\theta\\end{bmatrix} ; \\begin{bmatrix}1 \\\\ 1 \\\\ 0.3 \\end{bmatrix}, \\begin{bmatrix}0.3 & 0 & 0.1 \\\\ 0 & 0.2 & 0.2 \\\\ 0.1 & 0.2 & 0.5  \\end{bmatrix} )$$\n",
    "\n",
    "\n",
    "The problem is to marginalize the orientation variable $\\theta$:\n",
    "\n",
    "$$p(\\theta) = \\int \\int p(\\theta, x,y) dx dy = \\mathcal{N}(\\theta; \\mu_{\\theta}, \\Sigma_{\\theta})$$"
   ]
  },
  {
   "cell_type": "code",
   "execution_count": 447,
   "metadata": {},
   "outputs": [],
   "source": [
    "cov = np.array([[0.3, 0, 0.1],\n",
    "                [0, 0.2, 0.2],\n",
    "                [0.1, 0.2, 0.5]])"
   ]
  },
  {
   "cell_type": "code",
   "execution_count": 448,
   "metadata": {},
   "outputs": [],
   "source": [
    "mean = np.array([\n",
    "    [1],\n",
    "    [1],\n",
    "    [0.3]\n",
    "])"
   ]
  },
  {
   "cell_type": "code",
   "execution_count": 449,
   "metadata": {},
   "outputs": [
    {
     "data": {
      "text/plain": [
       "0.3"
      ]
     },
     "execution_count": 449,
     "metadata": {},
     "output_type": "execute_result"
    }
   ],
   "source": [
    "mu_theta = mean[2, 0]\n",
    "mu_theta"
   ]
  },
  {
   "cell_type": "code",
   "execution_count": 450,
   "metadata": {},
   "outputs": [
    {
     "data": {
      "text/plain": [
       "0.5"
      ]
     },
     "execution_count": 450,
     "metadata": {},
     "output_type": "execute_result"
    }
   ],
   "source": [
    "sigma_theta = cov[2, 2]\n",
    "sigma_theta"
   ]
  },
  {
   "cell_type": "markdown",
   "metadata": {},
   "source": [
    "# 2 Conditioning\n",
    "Now, we have access to the position variables. Calculate the new conditioned distribution $p(\\theta | x,y)$ for $x=1.1$ and $y = 1.1$\n",
    "\n",
    "$$p(x_a|x_b)=\\mathcal{N}(x_a; \\mu_a + \\Sigma_{ab}\\Sigma_b^{-1}(x_b - \\mu_b), \\Sigma_a - \\Sigma_{ab}\\Sigma_b^{-1}\\Sigma_{ba})$$\n"
   ]
  },
  {
   "cell_type": "code",
   "execution_count": 451,
   "metadata": {},
   "outputs": [
    {
     "name": "stdout",
     "output_type": "stream",
     "text": [
      "0.3\n",
      "[0.1 0.2]\n",
      "[[0.3 0. ]\n",
      " [0.  0.2]]\n",
      "[[1.1]\n",
      " [1.1]]\n",
      "[[1.]\n",
      " [1.]]\n",
      "[0.13333333]\n",
      "mu = [0.43333333]\n",
      "sigma = 0.26666666666666666\n"
     ]
    }
   ],
   "source": [
    "sigma_theta_xy = cov[2, :2]\n",
    "sigma_xy = cov[:2, :2]\n",
    "mu_xy = mean[:2]\n",
    "xy = np.array([\n",
    "    [1.1],\n",
    "    [1.1]\n",
    "])\n",
    "print(mu_theta)\n",
    "print(sigma_theta_xy)\n",
    "print(sigma_xy)\n",
    "print(xy)\n",
    "print(mu_xy)\n",
    "print(sigma_theta_xy @ np.linalg.inv(sigma_xy) @ (xy - mu_xy))\n",
    "mu = mu_theta + sigma_theta_xy @ np.linalg.inv(sigma_xy) @ (xy - mu_xy)\n",
    "sigma = sigma_theta - sigma_theta_xy @ np.linalg.inv(sigma_xy) @ sigma_theta_xy.T\n",
    "print(f\"mu = {mu}\")\n",
    "print(f\"sigma = {sigma}\")"
   ]
  },
  {
   "cell_type": "markdown",
   "metadata": {},
   "source": [
    "# 3 Robot trajectory: Joint distribution marginalization\n",
    "While the data from a robot were read some errors occurred. Due to that, the heading values were lost and the positions of the robot are slightly off. Luckily, we've managed to recover errors in positioning, but the exact orientations are still unknown.\n",
    "Some residual data suggest that heading values are distributed normally that is defined by PDF with the following mean and covariance as well as depend on errors in positioning:\n",
    "\n",
    "$$\\begin{bmatrix}p_1 \\\\ p_2 \\\\ p_3 \\\\ p_4 \\\\ p_5\\end{bmatrix} \\sim \\mathcal{N}\\Bigg(\\begin{bmatrix}\\mu_{p_1} \\\\ \\mu_{p_2} \\\\ \\mu_{p_3} \\\\ \\mu_{p_4} \\\\ \\mu_{p_5} \\end{bmatrix}, \\begin{bmatrix}\\Sigma_{p_1} & 0 & 0 & 0 & 0 \\\\ 0 & \\Sigma_{p_2} & 0 & 0 & 0 \\\\ 0 & 0  & \\Sigma_{p_3} & 0 & 0 \\\\ 0 & 0 & 0  & \\Sigma_{p_4} & 0  \\\\ 0 & 0 & 0 & 0 &\\Sigma_{p_5} \\end{bmatrix} \\Bigg)$$\n",
    "\n",
    "Where $p_i = \\begin{bmatrix}dx_i \\\\ dy_i \\\\ \\theta_i\\end{bmatrix}$, $\\mu_{p_i}=\\begin{bmatrix}0 \\\\ 0 \\\\ {\\mu_\\theta}_i\\end{bmatrix}$ and $\\Sigma_{p_i} = \\begin{bmatrix}0.3 & 0 & 0.1 \\\\ 0 & 0.2 & 0.2 \\\\ 0.1 & 0.2 & 0.5  \\end{bmatrix}$"
   ]
  },
  {
   "cell_type": "markdown",
   "metadata": {},
   "source": [
    "Knowing positions of the robot with errors (variable $robot\\_positions$) and mean heading values ${\\mu_\\theta}_i$ for each position (variable $mu\\_theta$) we want to estimate the uncertainty of our guess about heading values by $\\textbf{marginalizing}$ it out of the PDF. Calculate 1-sigma of the PDF (store it in the variable $sigma\\_theta\\_m$ as a column vector of size $n \\times 1$) and plot the 1-sigma sector using the code provided below"
   ]
  },
  {
   "cell_type": "code",
   "execution_count": 452,
   "metadata": {},
   "outputs": [],
   "source": [
    "robot_positions = np.array([[2, 1],\n",
    "                            [4, 3],\n",
    "                            [6, -1],\n",
    "                            [8, 1.5],\n",
    "                            [10, -0.5]])\n",
    "\n",
    "# Mean headings in radians\n",
    "mu_theta = np.array([[np.pi / 4 - np.pi / 16],\n",
    "                     [-np.pi / 4 - 2 * np.pi / 16],\n",
    "                     [np.pi / 4 + 2.7 * np.pi / 16],\n",
    "                     [-np.pi / 2 + 0.4 * np.pi / 16],\n",
    "                     [0]])"
   ]
  },
  {
   "cell_type": "code",
   "execution_count": 453,
   "metadata": {},
   "outputs": [],
   "source": [
    "# Calculate the marginal PDF of theta and get 1-sigma of the bearings guess for each position\n",
    "sigma_theta_m = np.ones(5) * sigma"
   ]
  },
  {
   "cell_type": "code",
   "execution_count": 454,
   "metadata": {},
   "outputs": [],
   "source": [
    "def plot_headings(_ax, positions, _mu_theta, sigma1, color):\n",
    "    _mu_theta = np.rad2deg(_mu_theta)\n",
    "    sigma1 = np.rad2deg(sigma1)\n",
    "    \n",
    "    for pos, mu, sigma in zip(positions, _mu_theta, sigma1):\n",
    "        sec_start = mu - sigma\n",
    "        sec_end = mu + sigma\n",
    "        \n",
    "        mu_rad = np.deg2rad(mu)\n",
    "        heading = np.concatenate([np.cos(mu_rad), np.sin(mu_rad)], axis=0)[None] * 0.5\n",
    "        heading = np.concatenate([pos[None], pos[None] + heading], axis=0)\n",
    "        \n",
    "        _ax.plot(heading[:, 0], heading[:, 1], color='black', alpha=0.8)\n",
    "        _ax.add_artist(Wedge(pos, 0.5, sec_start[0], sec_end[0], color=color, alpha=0.6))\n"
   ]
  },
  {
   "cell_type": "code",
   "execution_count": 455,
   "metadata": {},
   "outputs": [
    {
     "data": {
      "image/png": "[encoded data removed]",
      "text/plain": [
       "<Figure size 1008x648 with 1 Axes>"
      ]
     },
     "metadata": {
      "needs_background": "light"
     },
     "output_type": "display_data"
    }
   ],
   "source": [
    "fig = plt.figure(figsize=(14, 9))\n",
    "\n",
    "ax = fig.add_subplot(1, 1, 1, aspect='equal')\n",
    "\n",
    "ax.set_ylim(-2, 3.5)\n",
    "ax.set_xlim(1.5, 11)\n",
    "ax.set_xlabel('x', fontsize=18)\n",
    "ax.set_ylabel('y', fontsize=18)\n",
    "\n",
    "\n",
    "ax.plot(robot_positions[:, 0], robot_positions[:, 1], \n",
    "        color=\"indigo\",\n",
    "        marker='D', markersize=10, markerfacecolor='orange', markeredgewidth=1.0, markeredgecolor=(0, 0, 0, 1))\n",
    "plot_headings(ax, robot_positions, mu_theta, sigma_theta_m, 'red')\n",
    "\n",
    "plt.show()"
   ]
  },
  {
   "cell_type": "markdown",
   "metadata": {},
   "source": [
    "# 4 Joint distribution conditioning\n",
    "Now, we want to correct robot's positions using recovered data (variable $positions\\_err$) as well as our guess on the headigns 1-sigma estimate by utilizing the fact that we know $dx_i$ and $dy_i$. $\\textbf{Condition}$ $\\theta_i$ of PDF $\\textbf{on}$ $dx_i$ and $dy_i$ and use their values to recalculate mean and covariance of $p(\\theta_i|x_i, y_i)$. Plot the updated robot trajectory and 1-sigma sector next to the old one in is same manner as in 2.1."
   ]
  },
  {
   "cell_type": "code",
   "execution_count": 456,
   "metadata": {},
   "outputs": [],
   "source": [
    "dx = np.array([[-0.1931705 ],\n",
    "               [ 0.1224564 ],\n",
    "               [-0.11136686],\n",
    "               [ 0.28472354],\n",
    "               [-0.29425286]])\n",
    "\n",
    "dy = np.array([[ 0.16510238],\n",
    "               [-0.00937599],\n",
    "               [-0.3699997 ],\n",
    "               [ 0.3970382 ],\n",
    "               [ 0.08117404]])\n"
   ]
  },
  {
   "cell_type": "code",
   "execution_count": 457,
   "metadata": {},
   "outputs": [
    {
     "name": "stdout",
     "output_type": "stream",
     "text": [
      "[[ 0.58904862]\n",
      " [-1.17809725]\n",
      " [ 1.31554192]\n",
      " [-1.49225651]\n",
      " [ 0.        ]]\n",
      "[[0.1 0.2]\n",
      " [0.1 0.2]\n",
      " [0.1 0.2]\n",
      " [0.1 0.2]\n",
      " [0.1 0.2]]\n",
      "[[0.3 0. ]\n",
      " [0.  0.2]]\n",
      "[[ 1.8068295   1.16510238]\n",
      " [ 4.1224564   2.99062401]\n",
      " [ 5.88863314 -1.3699997 ]\n",
      " [ 8.28472354  1.8970382 ]\n",
      " [ 9.70574714 -0.41882596]]\n",
      "[[ 2.   1. ]\n",
      " [ 4.   3. ]\n",
      " [ 6.  -1. ]\n",
      " [ 8.   1.5]\n",
      " [10.  -0.5]]\n",
      "mu = [[ 0.68976084  0.62049143  0.18192664  1.08099467  0.57213838]\n",
      " [-1.07738503 -1.14665444 -1.58521923 -0.6861512  -1.19500749]\n",
      " [ 1.41625414  1.34698473  0.90841994  1.80748797  1.29863168]\n",
      " [-1.3915443  -1.4608137  -1.8993785  -1.00031046 -1.50916676]\n",
      " [ 0.10071221  0.03144281 -0.40712199  0.49194605 -0.01691025]]\n",
      "sigma = [[0.03333333 0.03333333 0.03333333 0.03333333 0.03333333]\n",
      " [0.03333333 0.03333333 0.03333333 0.03333333 0.03333333]\n",
      " [0.03333333 0.03333333 0.03333333 0.03333333 0.03333333]\n",
      " [0.03333333 0.03333333 0.03333333 0.03333333 0.03333333]\n",
      " [0.03333333 0.03333333 0.03333333 0.03333333 0.03333333]]\n"
     ]
    }
   ],
   "source": [
    "new_robot_positions = robot_positions + np.concatenate((dx, dy), axis=1)\n",
    "\n",
    "sigma_theta_xy = np.atleast_2d(cov[2, :2]).repeat(repeats=5, axis=0)\n",
    "sigma_xy = cov[:2, :2]\n",
    "mu_xy = robot_positions\n",
    "xy = new_robot_positions\n",
    "print(mu_theta)\n",
    "print(sigma_theta_xy)\n",
    "print(sigma_xy)\n",
    "print(xy)\n",
    "print(mu_xy)\n",
    "new_mu_theta = mu_theta + sigma_theta_xy @ np.linalg.inv(sigma_xy) @ (xy - mu_xy).T\n",
    "sigma_theta_c = sigma_theta_m - sigma_theta_xy @ np.linalg.inv(sigma_xy) @ sigma_theta_xy.T\n",
    "print(f\"mu = {new_mu_theta}\")\n",
    "print(f\"sigma = {sigma_theta_c}\")"
   ]
  },
  {
   "cell_type": "code",
   "execution_count": 458,
   "metadata": {},
   "outputs": [
    {
     "ename": "ValueError",
     "evalue": "operands could not be broadcast together with shapes (1,2) (1,10) ",
     "output_type": "error",
     "traceback": [
      "\u001b[0;31m---------------------------------------------------------------------------\u001b[0m",
      "\u001b[0;31mValueError\u001b[0m                                Traceback (most recent call last)",
      "\u001b[1;32m/home/helloworld21951/skoltech-perception/Lectures/L03/Lecture_3.ipynb Cell 21\u001b[0m in \u001b[0;36m<cell line: 19>\u001b[0;34m()\u001b[0m\n\u001b[1;32m     <a href='vscode-notebook-cell:/home/helloworld21951/skoltech-perception/Lectures/L03/Lecture_3.ipynb#X26sZmlsZQ%3D%3D?line=13'>14</a>\u001b[0m plot_headings(ax2, robot_positions, mu_theta, sigma_theta_m, \u001b[39m'\u001b[39m\u001b[39mred\u001b[39m\u001b[39m'\u001b[39m)\n\u001b[1;32m     <a href='vscode-notebook-cell:/home/helloworld21951/skoltech-perception/Lectures/L03/Lecture_3.ipynb#X26sZmlsZQ%3D%3D?line=15'>16</a>\u001b[0m ax2\u001b[39m.\u001b[39mplot(new_robot_positions[:, \u001b[39m0\u001b[39m], new_robot_positions[:, \u001b[39m1\u001b[39m], \n\u001b[1;32m     <a href='vscode-notebook-cell:/home/helloworld21951/skoltech-perception/Lectures/L03/Lecture_3.ipynb#X26sZmlsZQ%3D%3D?line=16'>17</a>\u001b[0m          color\u001b[39m=\u001b[39m\u001b[39m\"\u001b[39m\u001b[39mdarkgreen\u001b[39m\u001b[39m\"\u001b[39m,\n\u001b[1;32m     <a href='vscode-notebook-cell:/home/helloworld21951/skoltech-perception/Lectures/L03/Lecture_3.ipynb#X26sZmlsZQ%3D%3D?line=17'>18</a>\u001b[0m          marker\u001b[39m=\u001b[39m\u001b[39m'\u001b[39m\u001b[39mX\u001b[39m\u001b[39m'\u001b[39m, markersize\u001b[39m=\u001b[39m\u001b[39m10\u001b[39m, markerfacecolor\u001b[39m=\u001b[39m\u001b[39m'\u001b[39m\u001b[39mgreen\u001b[39m\u001b[39m'\u001b[39m, markeredgewidth\u001b[39m=\u001b[39m\u001b[39m1.0\u001b[39m, markeredgecolor\u001b[39m=\u001b[39m(\u001b[39m0\u001b[39m, \u001b[39m0\u001b[39m, \u001b[39m0\u001b[39m, \u001b[39m1\u001b[39m))\n\u001b[0;32m---> <a href='vscode-notebook-cell:/home/helloworld21951/skoltech-perception/Lectures/L03/Lecture_3.ipynb#X26sZmlsZQ%3D%3D?line=18'>19</a>\u001b[0m plot_headings(ax2, new_robot_positions, new_mu_theta, sigma_theta_c, \u001b[39m'\u001b[39;49m\u001b[39mpurple\u001b[39;49m\u001b[39m'\u001b[39;49m)\n\u001b[1;32m     <a href='vscode-notebook-cell:/home/helloworld21951/skoltech-perception/Lectures/L03/Lecture_3.ipynb#X26sZmlsZQ%3D%3D?line=20'>21</a>\u001b[0m plt\u001b[39m.\u001b[39mshow()\n",
      "\u001b[1;32m/home/helloworld21951/skoltech-perception/Lectures/L03/Lecture_3.ipynb Cell 21\u001b[0m in \u001b[0;36mplot_headings\u001b[0;34m(_ax, positions, _mu_theta, sigma1, color)\u001b[0m\n\u001b[1;32m      <a href='vscode-notebook-cell:/home/helloworld21951/skoltech-perception/Lectures/L03/Lecture_3.ipynb#X26sZmlsZQ%3D%3D?line=8'>9</a>\u001b[0m mu_rad \u001b[39m=\u001b[39m np\u001b[39m.\u001b[39mdeg2rad(mu)\n\u001b[1;32m     <a href='vscode-notebook-cell:/home/helloworld21951/skoltech-perception/Lectures/L03/Lecture_3.ipynb#X26sZmlsZQ%3D%3D?line=9'>10</a>\u001b[0m heading \u001b[39m=\u001b[39m np\u001b[39m.\u001b[39mconcatenate([np\u001b[39m.\u001b[39mcos(mu_rad), np\u001b[39m.\u001b[39msin(mu_rad)], axis\u001b[39m=\u001b[39m\u001b[39m0\u001b[39m)[\u001b[39mNone\u001b[39;00m] \u001b[39m*\u001b[39m \u001b[39m0.5\u001b[39m\n\u001b[0;32m---> <a href='vscode-notebook-cell:/home/helloworld21951/skoltech-perception/Lectures/L03/Lecture_3.ipynb#X26sZmlsZQ%3D%3D?line=10'>11</a>\u001b[0m heading \u001b[39m=\u001b[39m np\u001b[39m.\u001b[39mconcatenate([pos[\u001b[39mNone\u001b[39;00m], pos[\u001b[39mNone\u001b[39;49;00m] \u001b[39m+\u001b[39;49m heading], axis\u001b[39m=\u001b[39m\u001b[39m0\u001b[39m)\n\u001b[1;32m     <a href='vscode-notebook-cell:/home/helloworld21951/skoltech-perception/Lectures/L03/Lecture_3.ipynb#X26sZmlsZQ%3D%3D?line=12'>13</a>\u001b[0m _ax\u001b[39m.\u001b[39mplot(heading[:, \u001b[39m0\u001b[39m], heading[:, \u001b[39m1\u001b[39m], color\u001b[39m=\u001b[39m\u001b[39m'\u001b[39m\u001b[39mblack\u001b[39m\u001b[39m'\u001b[39m, alpha\u001b[39m=\u001b[39m\u001b[39m0.8\u001b[39m)\n\u001b[1;32m     <a href='vscode-notebook-cell:/home/helloworld21951/skoltech-perception/Lectures/L03/Lecture_3.ipynb#X26sZmlsZQ%3D%3D?line=13'>14</a>\u001b[0m _ax\u001b[39m.\u001b[39madd_artist(Wedge(pos, \u001b[39m0.5\u001b[39m, sec_start[\u001b[39m0\u001b[39m], sec_end[\u001b[39m0\u001b[39m], color\u001b[39m=\u001b[39mcolor, alpha\u001b[39m=\u001b[39m\u001b[39m0.6\u001b[39m))\n",
      "\u001b[0;31mValueError\u001b[0m: operands could not be broadcast together with shapes (1,2) (1,10) "
     ]
    },
    {
     "data": {
      "image/png": "[encoded data removed]",
      "text/plain": [
       "<Figure size 1008x648 with 1 Axes>"
      ]
     },
     "metadata": {
      "needs_background": "light"
     },
     "output_type": "display_data"
    }
   ],
   "source": [
    "fig2 = plt.figure(figsize=(14, 9))\n",
    "\n",
    "ax2 = fig2.add_subplot(1, 1, 1, aspect='equal')\n",
    "\n",
    "ax2.set_ylim(-2, 3.5)\n",
    "ax2.set_xlim(1.5, 11)\n",
    "ax2.set_xlabel('x', fontsize=18)\n",
    "ax2.set_ylabel('y', fontsize=18)\n",
    "\n",
    "\n",
    "ax2.plot(robot_positions[:, 0], robot_positions[:, 1], \n",
    "         color=\"indigo\",\n",
    "         marker='D', markersize=10, markerfacecolor='orange', markeredgewidth=1.0, markeredgecolor=(0, 0, 0, 1))\n",
    "plot_headings(ax2, robot_positions, mu_theta, sigma_theta_m, 'red')\n",
    "        \n",
    "ax2.plot(new_robot_positions[:, 0], new_robot_positions[:, 1], \n",
    "         color=\"darkgreen\",\n",
    "         marker='X', markersize=10, markerfacecolor='green', markeredgewidth=1.0, markeredgecolor=(0, 0, 0, 1))\n",
    "plot_headings(ax2, new_robot_positions, new_mu_theta, sigma_theta_c, 'purple')\n",
    "\n",
    "plt.show()"
   ]
  },
  {
   "cell_type": "markdown",
   "metadata": {},
   "source": [
    "<b>Question:</b> If cross-correlation terms are zero then will the conditioning have any effect on the variable for which conditioning is performed?"
   ]
  },
  {
   "cell_type": "code",
   "execution_count": null,
   "metadata": {},
   "outputs": [],
   "source": []
  }
 ],
 "metadata": {
  "kernelspec": {
   "display_name": "Python 3.9.12 ('base')",
   "language": "python",
   "name": "python3"
  },
  "language_info": {
   "codemirror_mode": {
    "name": "ipython",
    "version": 3
   },
   "file_extension": ".py",
   "mimetype": "text/x-python",
   "name": "python",
   "nbconvert_exporter": "python",
   "pygments_lexer": "ipython3",
   "version": "3.9.12"
  },
  "vscode": {
   "interpreter": {
    "hash": "1ad81400e789639f888b4f01e59c28c329187c56a23f8e3221f4cce8b26318ce"
   }
  }
 },
 "nbformat": 4,
 "nbformat_minor": 4
}
